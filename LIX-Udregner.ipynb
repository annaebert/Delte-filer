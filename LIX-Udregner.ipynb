{
 "cells": [
  {
   "cell_type": "code",
   "execution_count": null,
   "id": "8deaf5f6",
   "metadata": {},
   "outputs": [],
   "source": [
    "#Her er vores program der udregner LIX tal for en tekst\n",
    "#LIX tal udregnes ved formlen LIX = (antal ord/antal punktummer) + (lange ord * 100/antal ord)\n"
   ]
  },
  {
   "cell_type": "code",
   "execution_count": 33,
   "id": "f6e4da68",
   "metadata": {},
   "outputs": [],
   "source": [
    "#Først indlæser vi teksten, som er en novelle af Herman Bang, og gemmer den som HermanBangTekst\n",
    "txt_0 = open(\"bang.txt\", encoding = \"utf8\")\n",
    "HermanBangTekst = txt_0.read()"
   ]
  },
  {
   "cell_type": "code",
   "execution_count": 9,
   "id": "da4fd578",
   "metadata": {},
   "outputs": [],
   "source": [
    "#For at finde antal ord definerer vi en funktion, der fjerner tegnsætning og store bogstaver og deler teksten op ved mellemrum, så den bliver delt op i ord (strings)\n",
    "def rens_ord(text_0):\n",
    "    text_1 = text_0.replace(\"\\n\",\" \")\n",
    "    text_2 = text_1.replace(\".\",\" \")\n",
    "    text_3 = text_2.replace(\",\",\" \")\n",
    "    text_4 = text_3.replace(\":\",\" \")\n",
    "    text_5 = text_4.replace(\"*\",\" \")\n",
    "    text_6 = text_5.replace(\"–\",\" \")\n",
    "    text_7 = text_6.replace(\"'\",\" \")\n",
    "    text_8 = text_7.replace(\"”\",\" \")\n",
    "    text_ren = text_8.replace(\"-\",\" \")\n",
    "    text_lav = text_ren.lower()\n",
    "    text_token = text_lav.split()\n",
    "    return text_token"
   ]
  },
  {
   "cell_type": "code",
   "execution_count": 55,
   "id": "68ce1b8c",
   "metadata": {},
   "outputs": [
    {
     "name": "stdout",
     "output_type": "stream",
     "text": [
      "Antallet af ord i teksten er 79642\n"
     ]
    }
   ],
   "source": [
    "#funktionen køres på Herman Bang teksten\n",
    "rensettekst = rens_ord(HermanBangTekst)\n",
    "\n",
    "#Vi regner så ud hvor mange ord der er i teksten\n",
    "#printer antallet af ord i det hele\n",
    "AntalOrd = len(rensettekst)\n",
    "print (\"Antallet af ord i teksten er \"+ str(len(rensettekst)))"
   ]
  },
  {
   "cell_type": "code",
   "execution_count": 53,
   "id": "066d8f4a",
   "metadata": {},
   "outputs": [
    {
     "name": "stdout",
     "output_type": "stream",
     "text": [
      "Antallet af lange ord i teksten er 12145\n"
     ]
    }
   ],
   "source": [
    "#for at udregne LIX tal tæller man alle ord over 7 bogstaver som lange ord\n",
    "#Alle ord på eller over 7 bogstaver bliver tilføjet til listen langeOrd.\n",
    "langeOrd = []           \n",
    "for ord in rensettekst:           \n",
    "    if len(ord) >= 7:   \n",
    "        langeOrd.append(ord) \n",
    "\n",
    "#printer antallet af lange ord\n",
    "print(\"Antallet af lange ord i teksten er \" + str(len(langeOrd)))\n"
   ]
  },
  {
   "cell_type": "code",
   "execution_count": 58,
   "id": "94c1fc9c",
   "metadata": {},
   "outputs": [
    {
     "name": "stdout",
     "output_type": "stream",
     "text": [
      "Procentandelen af lange ord i Herman Bangs tekst er 15.249491474347707 procent.\n"
     ]
    }
   ],
   "source": [
    "#Udregner procentdel\n",
    "AntalLangeOrd = len(langeOrd)\n",
    "Andel = (AntalLangeOrd / AntalOrd)\n",
    "ProcentAndel = Andel * 100\n",
    "#printer en tekststreng (\"Det er\") plus procentandelen omformet til en streng\n",
    "print(\"Procentandelen af lange ord i Herman Bangs tekst er \" + str(ProcentAndel) + \" procent.\")   \n"
   ]
  },
  {
   "cell_type": "code",
   "execution_count": 51,
   "id": "0274204e",
   "metadata": {},
   "outputs": [
    {
     "name": "stdout",
     "output_type": "stream",
     "text": [
      "Antallet af punktummer i teksten er 6677\n"
     ]
    }
   ],
   "source": [
    "#Nu mangler vi bare at beregne antal punktummer\n",
    "AntalPunktummer = HermanBangTekst.count(\".\")\n",
    "print(\"Antallet af punktummer i teksten er \" + str(AntalPunktummer) )"
   ]
  },
  {
   "cell_type": "code",
   "execution_count": 62,
   "id": "bd2c0371",
   "metadata": {},
   "outputs": [
    {
     "name": "stdout",
     "output_type": "stream",
     "text": [
      "LIX-tallet for teksten er 27.177303365915776\n"
     ]
    }
   ],
   "source": [
    "#Vi er nu klar til at udregne LIX-tallet\n",
    "#LIX = (antal ord/antal punktummer) + (lange ord * 100/antal ord)\n",
    "LIX = (AntalOrd / AntalPunktummer) + (AntalLangeOrd*100/AntalOrd) \n",
    "print(\"LIX-tallet for teksten er \" + str(LIX))"
   ]
  },
  {
   "cell_type": "code",
   "execution_count": 77,
   "id": "2d80fd6a",
   "metadata": {},
   "outputs": [
    {
     "name": "stdout",
     "output_type": "stream",
     "text": [
      "Teksten er let for øvede læsere\n"
     ]
    }
   ],
   "source": [
    "if LIX > 54:\n",
    "    print(\"Teksten er meget svær\")\n",
    "elif LIX >= 45:\n",
    "    print(\"Teksten er svær\")\n",
    "elif LIX >= 35:\n",
    "    print(\"Teksten er middel\")\n",
    "elif LIX >=25:\n",
    "    print(\"Teksten er let for øvede læsere\")\n",
    "else:\n",
    "    print (\"Teksten er let\")"
   ]
  }
 ],
 "metadata": {
  "kernelspec": {
   "display_name": "Python 3 (ipykernel)",
   "language": "python",
   "name": "python3"
  },
  "language_info": {
   "codemirror_mode": {
    "name": "ipython",
    "version": 3
   },
   "file_extension": ".py",
   "mimetype": "text/x-python",
   "name": "python",
   "nbconvert_exporter": "python",
   "pygments_lexer": "ipython3",
   "version": "3.9.7"
  }
 },
 "nbformat": 4,
 "nbformat_minor": 5
}
